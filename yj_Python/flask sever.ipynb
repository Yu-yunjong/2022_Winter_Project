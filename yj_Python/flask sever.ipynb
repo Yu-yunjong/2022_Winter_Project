{
 "cells": [
  {
   "cell_type": "code",
   "execution_count": 2,
   "id": "b8928ec8",
   "metadata": {},
   "outputs": [
    {
     "name": "stdout",
     "output_type": "stream",
     "text": [
      " * Serving Flask app \"__main__\" (lazy loading)\n",
      " * Environment: production\n",
      "   WARNING: This is a development server. Do not use it in a production deployment.\n",
      "   Use a production WSGI server instead.\n",
      " * Debug mode: off\n"
     ]
    },
    {
     "name": "stderr",
     "output_type": "stream",
     "text": [
      " * Running on http://localhost:51123/ (Press CTRL+C to quit)\n",
      "127.0.0.1 - - [05/Feb/2022 00:28:27] \"\u001b[37mPOST /addDB HTTP/1.1\u001b[0m\" 200 -\n"
     ]
    }
   ],
   "source": [
    "import json\n",
    "from flask import Flask , request\n",
    "import pymysql\n",
    "import secretAccount as secret\n",
    "\n",
    "# DB Setting\n",
    "DB_Name = secret.db_name\n",
    "Table_Name = 'userinfo'\n",
    "\n",
    "def dbConnect():\n",
    "    conn = pymysql.connect (host=secret.db_host, \n",
    "                          user=secret.db_user, password=secret.db_password, db=DB_Name, charset='utf8')\n",
    "    return conn\n",
    "\n",
    "def insert_data(conn, ID, pwd, usernum, keyword):\n",
    "    cur = conn.cursor()\n",
    "    sql = 'INSERT INTO ' + Table_Name + '(id, pwd, usernum, keyword) VALUES(\"' + ID + '\", \"' + pwd + '\", ' + usernum + ', \"' + keyword + '\");'\n",
    "    cur.execute(sql)\n",
    "    conn.commit()\n",
    "\n",
    "# 초기화\n",
    "app = Flask(__name__)\n",
    "conn = dbConnect()\n",
    "\n",
    "# GET 방식 => DB에 추가\n",
    "@app.route(\"/addDB\", methods=['POST'])\n",
    "def add_dataBase():\n",
    "    # 파라미터 값\n",
    "    ID = request.form['id']\n",
    "    pwd = request.form['pwd']\n",
    "    usernum = request.form['usernum']\n",
    "    keyword = request.form['keyword']\n",
    "    \n",
    "    insert_data(conn, ID, pwd, usernum, keyword) # DB입력\n",
    "    \n",
    "    return f\"id = {ID}, pwd = {pwd}, usernum = {usernum}, keyword = {keyword}\"\n",
    "\n",
    "app.run(host=\"localhost\",port=51123)"
   ]
  },
  {
   "cell_type": "code",
   "execution_count": null,
   "id": "5b854d69",
   "metadata": {},
   "outputs": [],
   "source": []
  }
 ],
 "metadata": {
  "kernelspec": {
   "display_name": "Python 3",
   "language": "python",
   "name": "python3"
  },
  "language_info": {
   "codemirror_mode": {
    "name": "ipython",
    "version": 3
   },
   "file_extension": ".py",
   "mimetype": "text/x-python",
   "name": "python",
   "nbconvert_exporter": "python",
   "pygments_lexer": "ipython3",
   "version": "3.8.8"
  }
 },
 "nbformat": 4,
 "nbformat_minor": 5
}
