{
 "cells": [
  {
   "cell_type": "code",
   "execution_count": 3,
   "id": "4c917597",
   "metadata": {},
   "outputs": [
    {
     "name": "stdout",
     "output_type": "stream",
     "text": [
      "{'multicast_ids': [5693514555996867480], 'success': 1, 'failure': 0, 'canonical_ids': 0, 'results': [{'message_id': '0:1643848502377448%df9651a4f9fd7ecd'}], 'topic_message_id': None}\n"
     ]
    }
   ],
   "source": [
    "from pyfcm import FCMNotification\n",
    " \n",
    "APIKEY = \"AAAAjnCat7A:APA91bFSNEQZ_W0T3Veh8qpp_c36aGCCKQU9FZg6Ubpcr3EK-SfeUYQ5xpR9jqqMESa9ey1eEHYK1zpBjXhI2fhc04bDNtaz-hCdHSfIyVDBM1OygzfhcqcwZGQF52pdIth3wzCBEJ0o\"\n",
    "TOKEN = \"e63cK_rAV3A:APA91bFl2JMUMPkN8yA3sR6wUNlHbfqnXauRyI_OCZ0ZUy9zcwW-2tIV_yPxADnrtKzKcRZh_Qs1emy0xLEzCNTu65s3iCmueuQ6cUlrNsNtZ-ErQKDelCYOmAWYijPIiRNvB5biBMfg\"\n",
    " \n",
    "# 파이어베이스 콘솔에서 얻어 온 서버 키를 넣어 줌\n",
    "push_service = FCMNotification(APIKEY)\n",
    " \n",
    "def sendMessage(body, title):\n",
    "    # 메시지 (data 타입)\n",
    "    data_message = {\n",
    "        \"body\": body,\n",
    "        \"title\": title\n",
    "    }\n",
    " \n",
    "    # 토큰값을 이용해 1명에게 푸시알림을 전송함\n",
    "    result = push_service.single_device_data_message(registration_id=TOKEN, data_message=data_message)\n",
    " \n",
    "    # 전송 결과 출력\n",
    "    print(result)\n",
    " \n",
    "sendMessage(\"테스트 메세지\", \"메세지 발송 확인\")"
   ]
  },
  {
   "cell_type": "code",
   "execution_count": null,
   "id": "4efaa394",
   "metadata": {},
   "outputs": [],
   "source": []
  }
 ],
 "metadata": {
  "kernelspec": {
   "display_name": "Python 3",
   "language": "python",
   "name": "python3"
  },
  "language_info": {
   "codemirror_mode": {
    "name": "ipython",
    "version": 3
   },
   "file_extension": ".py",
   "mimetype": "text/x-python",
   "name": "python",
   "nbconvert_exporter": "python",
   "pygments_lexer": "ipython3",
   "version": "3.8.8"
  }
 },
 "nbformat": 4,
 "nbformat_minor": 5
}
