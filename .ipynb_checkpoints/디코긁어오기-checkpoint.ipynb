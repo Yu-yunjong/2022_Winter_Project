{
 "cells": [
  {
   "cell_type": "code",
   "execution_count": 1,
   "id": "c1020d86",
   "metadata": {},
   "outputs": [],
   "source": [
    "import selenium\n",
    "from selenium import webdriver\n",
    "from selenium.webdriver.support.ui import WebDriverWait\n",
    "from selenium.webdriver.chrome.options import Options\n",
    "from selenium.webdriver.common.keys import Keys\n",
    "import time\n",
    "import os\n",
    "import urllib.request\n",
    "import re\n",
    "from datetime import datetime"
   ]
  },
  {
   "cell_type": "code",
   "execution_count": 11,
   "id": "59864f59",
   "metadata": {
    "scrolled": true
   },
   "outputs": [
    {
     "name": "stderr",
     "output_type": "stream",
     "text": [
      "<ipython-input-11-292410dbfe68>:14: DeprecationWarning: find_element_by_* commands are deprecated. Please use find_element() instead\n",
      "  element = driver.find_element_by_xpath(\"/html/body/div[1]/div[2]/div/div/div/div/form/div/div/div[1]/div[2]/div[1]/div/div[2]/input\")\n",
      "<ipython-input-11-292410dbfe68>:16: DeprecationWarning: find_element_by_* commands are deprecated. Please use find_element() instead\n",
      "  element = driver.find_element_by_xpath(\"/html/body/div[1]/div[2]/div/div/div/div/form/div/div/div[1]/div[2]/div[2]/div/input\")\n",
      "<ipython-input-11-292410dbfe68>:40: DeprecationWarning: find_elements_by_* commands are deprecated. Please use find_elements() instead\n",
      "  element = driver.find_elements_by_class_name(\"contents-2MsGLg\")\n"
     ]
    },
    {
     "name": "stdout",
     "output_type": "stream",
     "text": [
      "떠돌이 상인 알림\n",
      "봇\n",
      "오늘 오후 6:56\n",
      "▬▬▬▬▬▬▬▬▬▬▬▬▬▬▬▬▬▬▬▬▬▬▬▬▬▬▬▬▬▬\n",
      "✦ 떠돌이 상인은 매 시 30분에 등장하고 55분에 사라집니다.\n",
      "\n",
      "✦ 키워드 알림 설정은\n",
      "알림설정 채널에서 할 수 있습니다.\n",
      "\n",
      "✦ 다음 떠돌이 상인은 아르테미스, 유디아, 루테란 동부 (모리스), 애니츠, 베른 북부, 슈샤이어, 욘, 페이튼, 베른 남부 대륙에 9명이 등장합니다. \n",
      "▬▬▬▬▬▬▬▬▬▬▬▬▬▬▬▬▬▬▬▬▬▬▬▬▬▬▬▬▬▬\n",
      "no\n"
     ]
    }
   ],
   "source": [
    "driver = webdriver.Chrome(executable_path='chromedriver')\n",
    "driver.implicitly_wait(time_to_wait=1)\n",
    "URL = 'https://discord.com/login'\n",
    "driver.get(URL)\n",
    "time.sleep(2)\n",
    "i=0\n",
    "check=0 # 중간에 공지 떳나안떳나 체크용\n",
    "nowhour=current_time = datetime.now().hour\n",
    "nowhour=str(nowhour)\n",
    "l=0 # 제보봇 카운팅용\n",
    "id = \"\" #아이디 \n",
    "pwd = \"\" #비번\n",
    "keyword=\"에오르\"  # html 선택박스처럼 정해둔거 input으로 들어가게 하면 좋을듯?\n",
    "element = driver.find_element_by_xpath(\"/html/body/div[1]/div[2]/div/div/div/div/form/div/div/div[1]/div[2]/div[1]/div/div[2]/input\")\n",
    "element.send_keys(id)\n",
    "element = driver.find_element_by_xpath(\"/html/body/div[1]/div[2]/div/div/div/div/form/div/div/div[1]/div[2]/div[2]/div/input\")\n",
    "element.send_keys(pwd)\n",
    "element.send_keys(Keys.RETURN)\n",
    "\n",
    "\n",
    "#윤종이 코드\n",
    "#time.sleep(4)\n",
    "\n",
    "#driver.get(URL)\n",
    "\n",
    "#time.sleep(7)\n",
    "\n",
    "#chat_list = driver.find_elements_by_class_name('messageContent-2t3eCI')\n",
    "\n",
    "#for i in chat_list:\n",
    " #   print(i.text)\n",
    "#element = driver.find_element_by_id('query') # 아이디값으로 찾음\n",
    "#element.send_keys('test') # test 라는 키워드를\n",
    "#element.send_keys(Keys.RETURN) # 엔터해줌\n",
    "time.sleep(4)\n",
    "아만URL = \"https://discord.com/channels/660684739056762891/724168359171719199\" #키워드 선택이랑 서버선택도 해야함 서버선택에서 해당서버 url 들 \n",
    "driver.get(아만URL)\n",
    "\n",
    "time.sleep(4)\n",
    "element = driver.find_elements_by_class_name(\"contents-2MsGLg\")\n",
    "\n",
    "\n",
    "#가장 최신 한개 가져오기 \n",
    "#context = re.sub(r'\\[[^)]*\\]', '',element[49].text)  # [닉네임]형식이라 닉네임에 웨이같은거 들어가는거 정규식으로 제외시킴\n",
    "#print(context)\n",
    "#print(\"\")\n",
    "#if keyword in context:\n",
    "#    print(\"push\") # push\n",
    "#else:\n",
    "#    print(\"못찾음\")\n",
    "\n",
    "#문제점 웨이가 올라왔는대 32분에 앱을 킨 사람은 이전에 리스트 번호가 48 이렇게 밀릴수도 있음  ( 앱을 32분에 깔았는대 30분에 떳다면?놓침)\n",
    "\n",
    "\n",
    "check=checking(element)\n",
    "while(True):\n",
    "    context = re.sub(r'\\[[^)]*\\]', '',element[check].text)\n",
    "    print(context)\n",
    "    check=check+1\n",
    "    if keyword in context:\n",
    "        print(\"push\")\n",
    "    else:\n",
    "        print(\"no\")\n",
    "    if check == 50:\n",
    "        break\n",
    "\n",
    "#한계점: 제보자닉네임에 웨이 들어가도 push울림  해결o  \n",
    "#이전시간대에 떳는대 떠상 수가 엉키면 이전시간 대화에 있는 웨이로 push가 울림  time으로? 해결 x"
   ]
  },
  {
   "cell_type": "code",
   "execution_count": 3,
   "id": "43840a44",
   "metadata": {},
   "outputs": [],
   "source": [
    "def checking(element):\n",
    "    i=0\n",
    "    check=0\n",
    "    for _ in element:\n",
    "        if i>=39:    \n",
    "            context =element[i].text\n",
    "            if \"떠돌이 상인은\" in context:\n",
    "                check=i\n",
    "                i=i+1\n",
    "            else:\n",
    "                i=i+1\n",
    "                check=check\n",
    "        else:\n",
    "            context = re.sub(r'\\[[^)]*\\]', '',element[i].text)\n",
    "            i=i+1\n",
    "        \n",
    "    return check"
   ]
  },
  {
   "cell_type": "code",
   "execution_count": null,
   "id": "e6f36e72",
   "metadata": {},
   "outputs": [],
   "source": []
  },
  {
   "cell_type": "code",
   "execution_count": null,
   "id": "d6d54508",
   "metadata": {},
   "outputs": [],
   "source": []
  }
 ],
 "metadata": {
  "kernelspec": {
   "display_name": "Python 3",
   "language": "python",
   "name": "python3"
  },
  "language_info": {
   "codemirror_mode": {
    "name": "ipython",
    "version": 3
   },
   "file_extension": ".py",
   "mimetype": "text/x-python",
   "name": "python",
   "nbconvert_exporter": "python",
   "pygments_lexer": "ipython3",
   "version": "3.8.8"
  }
 },
 "nbformat": 4,
 "nbformat_minor": 5
}
