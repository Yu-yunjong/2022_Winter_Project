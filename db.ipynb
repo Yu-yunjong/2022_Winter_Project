{
 "cells": [
  {
   "cell_type": "code",
   "execution_count": 3,
   "id": "d966946b",
   "metadata": {},
   "outputs": [],
   "source": [
    "import pymysql\n",
    "import secretAccount as secret\n",
    "\n",
    "# DB Setting\n",
    "Table_Name = 'userinfo'\n",
    "\n",
    "def dbConnect():\n",
    "    conn = pymysql.connect (host= secret.db_host,\n",
    "                          user=secret.db_user, password=secret.db_password, db=secret.db_name, charset='utf8')\n",
    "    return conn\n",
    "\n",
    "def insert_data(conn):\n",
    "    cur = conn.cursor()\n",
    "    sql = 'INSERT INTO ' + Table_Name + '(id, pwd, usernum, keyword) VALUES(\"가나다라\", \"abcd\", \"1212\", \"aaaa\");'\n",
    "    cur.execute(sql)\n",
    "    conn.commit()"
   ]
  },
  {
   "cell_type": "code",
   "execution_count": null,
   "id": "012ebf63",
   "metadata": {},
   "outputs": [],
   "source": [
    "insert_data(dbConnect())"
   ]
  }
 ],
 "metadata": {
  "kernelspec": {
   "display_name": "Python 3",
   "language": "python",
   "name": "python3"
  },
  "language_info": {
   "codemirror_mode": {
    "name": "ipython",
    "version": 3
   },
   "file_extension": ".py",
   "mimetype": "text/x-python",
   "name": "python",
   "nbconvert_exporter": "python",
   "pygments_lexer": "ipython3",
   "version": "3.8.8"
  }
 },
 "nbformat": 4,
 "nbformat_minor": 5
}
